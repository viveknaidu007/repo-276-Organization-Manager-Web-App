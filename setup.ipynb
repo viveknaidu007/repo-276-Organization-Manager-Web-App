{
 "cells": [
  {
   "cell_type": "code",
   "execution_count": null,
   "id": "1dafafe6",
   "metadata": {
    "vscode": {
     "languageId": "plaintext"
    }
   },
   "outputs": [],
   "source": [
    "npm create vite@latest frontned\n",
    "cd frontend"
   ]
  },
  {
   "cell_type": "code",
   "execution_count": null,
   "id": "73b321bf",
   "metadata": {
    "vscode": {
     "languageId": "plaintext"
    }
   },
   "outputs": [],
   "source": [
    "#https://tailwindcss.com/docs/installation/using-vite\n",
    "npm install tailwindcss @tailwindcss/vite"
   ]
  },
  {
   "cell_type": "code",
   "execution_count": null,
   "id": "7cca7a62",
   "metadata": {
    "vscode": {
     "languageId": "plaintext"
    }
   },
   "outputs": [],
   "source": []
  }
 ],
 "metadata": {
  "language_info": {
   "name": "python"
  }
 },
 "nbformat": 4,
 "nbformat_minor": 5
}
